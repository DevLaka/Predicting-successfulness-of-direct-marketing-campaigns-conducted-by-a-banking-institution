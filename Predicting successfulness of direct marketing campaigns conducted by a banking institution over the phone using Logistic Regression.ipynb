{
 "cells": [
  {
   "cell_type": "code",
   "execution_count": 1,
   "metadata": {},
   "outputs": [],
   "source": [
    "# loading libraries\n",
    "from pandas import read_csv\n",
    "from matplotlib import pyplot\n",
    "from sklearn.linear_model import LogisticRegression\n",
    "from sklearn.metrics import accuracy_score\n",
    "from sklearn.model_selection import train_test_split\n",
    "from sklearn.metrics import confusion_matrix\n",
    "import pandas as pd\n",
    "from sklearn.metrics import classification_report\n",
    "import seaborn as sns"
   ]
  },
  {
   "cell_type": "code",
   "execution_count": 2,
   "metadata": {},
   "outputs": [],
   "source": [
    "# loading dataset\n",
    "dataset_location = \"C:\\\\Users\\\\Lakshan Bandara\\\\Desktop\\\\bank-full.csv\"\n",
    "dataset = read_csv(dataset_location, sep= ';')"
   ]
  },
  {
   "cell_type": "code",
   "execution_count": 3,
   "metadata": {},
   "outputs": [
    {
     "name": "stdout",
     "output_type": "stream",
     "text": [
      "(45211, 17)\n"
     ]
    }
   ],
   "source": [
    "# printing number of columns and rows in the dataset before pre processing\n",
    "print(dataset.shape)"
   ]
  },
  {
   "cell_type": "code",
   "execution_count": 4,
   "metadata": {},
   "outputs": [
    {
     "data": {
      "text/html": [
       "<div>\n",
       "<style scoped>\n",
       "    .dataframe tbody tr th:only-of-type {\n",
       "        vertical-align: middle;\n",
       "    }\n",
       "\n",
       "    .dataframe tbody tr th {\n",
       "        vertical-align: top;\n",
       "    }\n",
       "\n",
       "    .dataframe thead th {\n",
       "        text-align: right;\n",
       "    }\n",
       "</style>\n",
       "<table border=\"1\" class=\"dataframe\">\n",
       "  <thead>\n",
       "    <tr style=\"text-align: right;\">\n",
       "      <th></th>\n",
       "      <th>age</th>\n",
       "      <th>job</th>\n",
       "      <th>marital</th>\n",
       "      <th>education</th>\n",
       "      <th>default</th>\n",
       "      <th>balance</th>\n",
       "      <th>housing</th>\n",
       "      <th>loan</th>\n",
       "      <th>contact</th>\n",
       "      <th>day</th>\n",
       "      <th>month</th>\n",
       "      <th>duration</th>\n",
       "      <th>campaign</th>\n",
       "      <th>pdays</th>\n",
       "      <th>previous</th>\n",
       "      <th>poutcome</th>\n",
       "      <th>y</th>\n",
       "    </tr>\n",
       "  </thead>\n",
       "  <tbody>\n",
       "    <tr>\n",
       "      <td>0</td>\n",
       "      <td>58</td>\n",
       "      <td>management</td>\n",
       "      <td>married</td>\n",
       "      <td>tertiary</td>\n",
       "      <td>no</td>\n",
       "      <td>2143</td>\n",
       "      <td>yes</td>\n",
       "      <td>no</td>\n",
       "      <td>unknown</td>\n",
       "      <td>5</td>\n",
       "      <td>may</td>\n",
       "      <td>261</td>\n",
       "      <td>1</td>\n",
       "      <td>-1</td>\n",
       "      <td>0</td>\n",
       "      <td>unknown</td>\n",
       "      <td>no</td>\n",
       "    </tr>\n",
       "    <tr>\n",
       "      <td>1</td>\n",
       "      <td>44</td>\n",
       "      <td>technician</td>\n",
       "      <td>single</td>\n",
       "      <td>secondary</td>\n",
       "      <td>no</td>\n",
       "      <td>29</td>\n",
       "      <td>yes</td>\n",
       "      <td>no</td>\n",
       "      <td>unknown</td>\n",
       "      <td>5</td>\n",
       "      <td>may</td>\n",
       "      <td>151</td>\n",
       "      <td>1</td>\n",
       "      <td>-1</td>\n",
       "      <td>0</td>\n",
       "      <td>unknown</td>\n",
       "      <td>no</td>\n",
       "    </tr>\n",
       "    <tr>\n",
       "      <td>2</td>\n",
       "      <td>33</td>\n",
       "      <td>entrepreneur</td>\n",
       "      <td>married</td>\n",
       "      <td>secondary</td>\n",
       "      <td>no</td>\n",
       "      <td>2</td>\n",
       "      <td>yes</td>\n",
       "      <td>yes</td>\n",
       "      <td>unknown</td>\n",
       "      <td>5</td>\n",
       "      <td>may</td>\n",
       "      <td>76</td>\n",
       "      <td>1</td>\n",
       "      <td>-1</td>\n",
       "      <td>0</td>\n",
       "      <td>unknown</td>\n",
       "      <td>no</td>\n",
       "    </tr>\n",
       "    <tr>\n",
       "      <td>3</td>\n",
       "      <td>47</td>\n",
       "      <td>blue-collar</td>\n",
       "      <td>married</td>\n",
       "      <td>unknown</td>\n",
       "      <td>no</td>\n",
       "      <td>1506</td>\n",
       "      <td>yes</td>\n",
       "      <td>no</td>\n",
       "      <td>unknown</td>\n",
       "      <td>5</td>\n",
       "      <td>may</td>\n",
       "      <td>92</td>\n",
       "      <td>1</td>\n",
       "      <td>-1</td>\n",
       "      <td>0</td>\n",
       "      <td>unknown</td>\n",
       "      <td>no</td>\n",
       "    </tr>\n",
       "    <tr>\n",
       "      <td>4</td>\n",
       "      <td>33</td>\n",
       "      <td>unknown</td>\n",
       "      <td>single</td>\n",
       "      <td>unknown</td>\n",
       "      <td>no</td>\n",
       "      <td>1</td>\n",
       "      <td>no</td>\n",
       "      <td>no</td>\n",
       "      <td>unknown</td>\n",
       "      <td>5</td>\n",
       "      <td>may</td>\n",
       "      <td>198</td>\n",
       "      <td>1</td>\n",
       "      <td>-1</td>\n",
       "      <td>0</td>\n",
       "      <td>unknown</td>\n",
       "      <td>no</td>\n",
       "    </tr>\n",
       "    <tr>\n",
       "      <td>5</td>\n",
       "      <td>35</td>\n",
       "      <td>management</td>\n",
       "      <td>married</td>\n",
       "      <td>tertiary</td>\n",
       "      <td>no</td>\n",
       "      <td>231</td>\n",
       "      <td>yes</td>\n",
       "      <td>no</td>\n",
       "      <td>unknown</td>\n",
       "      <td>5</td>\n",
       "      <td>may</td>\n",
       "      <td>139</td>\n",
       "      <td>1</td>\n",
       "      <td>-1</td>\n",
       "      <td>0</td>\n",
       "      <td>unknown</td>\n",
       "      <td>no</td>\n",
       "    </tr>\n",
       "    <tr>\n",
       "      <td>6</td>\n",
       "      <td>28</td>\n",
       "      <td>management</td>\n",
       "      <td>single</td>\n",
       "      <td>tertiary</td>\n",
       "      <td>no</td>\n",
       "      <td>447</td>\n",
       "      <td>yes</td>\n",
       "      <td>yes</td>\n",
       "      <td>unknown</td>\n",
       "      <td>5</td>\n",
       "      <td>may</td>\n",
       "      <td>217</td>\n",
       "      <td>1</td>\n",
       "      <td>-1</td>\n",
       "      <td>0</td>\n",
       "      <td>unknown</td>\n",
       "      <td>no</td>\n",
       "    </tr>\n",
       "    <tr>\n",
       "      <td>7</td>\n",
       "      <td>42</td>\n",
       "      <td>entrepreneur</td>\n",
       "      <td>divorced</td>\n",
       "      <td>tertiary</td>\n",
       "      <td>yes</td>\n",
       "      <td>2</td>\n",
       "      <td>yes</td>\n",
       "      <td>no</td>\n",
       "      <td>unknown</td>\n",
       "      <td>5</td>\n",
       "      <td>may</td>\n",
       "      <td>380</td>\n",
       "      <td>1</td>\n",
       "      <td>-1</td>\n",
       "      <td>0</td>\n",
       "      <td>unknown</td>\n",
       "      <td>no</td>\n",
       "    </tr>\n",
       "    <tr>\n",
       "      <td>8</td>\n",
       "      <td>58</td>\n",
       "      <td>retired</td>\n",
       "      <td>married</td>\n",
       "      <td>primary</td>\n",
       "      <td>no</td>\n",
       "      <td>121</td>\n",
       "      <td>yes</td>\n",
       "      <td>no</td>\n",
       "      <td>unknown</td>\n",
       "      <td>5</td>\n",
       "      <td>may</td>\n",
       "      <td>50</td>\n",
       "      <td>1</td>\n",
       "      <td>-1</td>\n",
       "      <td>0</td>\n",
       "      <td>unknown</td>\n",
       "      <td>no</td>\n",
       "    </tr>\n",
       "    <tr>\n",
       "      <td>9</td>\n",
       "      <td>43</td>\n",
       "      <td>technician</td>\n",
       "      <td>single</td>\n",
       "      <td>secondary</td>\n",
       "      <td>no</td>\n",
       "      <td>593</td>\n",
       "      <td>yes</td>\n",
       "      <td>no</td>\n",
       "      <td>unknown</td>\n",
       "      <td>5</td>\n",
       "      <td>may</td>\n",
       "      <td>55</td>\n",
       "      <td>1</td>\n",
       "      <td>-1</td>\n",
       "      <td>0</td>\n",
       "      <td>unknown</td>\n",
       "      <td>no</td>\n",
       "    </tr>\n",
       "  </tbody>\n",
       "</table>\n",
       "</div>"
      ],
      "text/plain": [
       "   age           job   marital  education default  balance housing loan  \\\n",
       "0   58    management   married   tertiary      no     2143     yes   no   \n",
       "1   44    technician    single  secondary      no       29     yes   no   \n",
       "2   33  entrepreneur   married  secondary      no        2     yes  yes   \n",
       "3   47   blue-collar   married    unknown      no     1506     yes   no   \n",
       "4   33       unknown    single    unknown      no        1      no   no   \n",
       "5   35    management   married   tertiary      no      231     yes   no   \n",
       "6   28    management    single   tertiary      no      447     yes  yes   \n",
       "7   42  entrepreneur  divorced   tertiary     yes        2     yes   no   \n",
       "8   58       retired   married    primary      no      121     yes   no   \n",
       "9   43    technician    single  secondary      no      593     yes   no   \n",
       "\n",
       "   contact  day month  duration  campaign  pdays  previous poutcome   y  \n",
       "0  unknown    5   may       261         1     -1         0  unknown  no  \n",
       "1  unknown    5   may       151         1     -1         0  unknown  no  \n",
       "2  unknown    5   may        76         1     -1         0  unknown  no  \n",
       "3  unknown    5   may        92         1     -1         0  unknown  no  \n",
       "4  unknown    5   may       198         1     -1         0  unknown  no  \n",
       "5  unknown    5   may       139         1     -1         0  unknown  no  \n",
       "6  unknown    5   may       217         1     -1         0  unknown  no  \n",
       "7  unknown    5   may       380         1     -1         0  unknown  no  \n",
       "8  unknown    5   may        50         1     -1         0  unknown  no  \n",
       "9  unknown    5   may        55         1     -1         0  unknown  no  "
      ]
     },
     "execution_count": 4,
     "metadata": {},
     "output_type": "execute_result"
    }
   ],
   "source": [
    "# printing first 10 records before pre processing\n",
    "dataset.head(10)"
   ]
  },
  {
   "cell_type": "code",
   "execution_count": 5,
   "metadata": {},
   "outputs": [
    {
     "name": "stdout",
     "output_type": "stream",
     "text": [
      "<class 'pandas.core.frame.DataFrame'>\n",
      "RangeIndex: 45211 entries, 0 to 45210\n",
      "Data columns (total 17 columns):\n",
      "age          45211 non-null int64\n",
      "job          45211 non-null object\n",
      "marital      45211 non-null object\n",
      "education    45211 non-null object\n",
      "default      45211 non-null object\n",
      "balance      45211 non-null int64\n",
      "housing      45211 non-null object\n",
      "loan         45211 non-null object\n",
      "contact      45211 non-null object\n",
      "day          45211 non-null int64\n",
      "month        45211 non-null object\n",
      "duration     45211 non-null int64\n",
      "campaign     45211 non-null int64\n",
      "pdays        45211 non-null int64\n",
      "previous     45211 non-null int64\n",
      "poutcome     45211 non-null object\n",
      "y            45211 non-null object\n",
      "dtypes: int64(7), object(10)\n",
      "memory usage: 5.9+ MB\n"
     ]
    }
   ],
   "source": [
    "# printing summary of the datset to get the column data types and null values\n",
    "dataset.info()"
   ]
  },
  {
   "cell_type": "code",
   "execution_count": 6,
   "metadata": {},
   "outputs": [
    {
     "name": "stdout",
     "output_type": "stream",
     "text": [
      "There are 7 numerical data columns and those are :  ['age', 'balance', 'day', 'duration', 'campaign', 'pdays', 'previous']\n"
     ]
    }
   ],
   "source": [
    "# finding numerical data\n",
    "numerical_data_columns = [column_name for column_name in dataset.columns if dataset[column_name].dtype =='int64']\n",
    "print(\"There are {} numerical data columns and those are : \" .format(len(numerical_data_columns)), numerical_data_columns)"
   ]
  },
  {
   "cell_type": "code",
   "execution_count": 7,
   "metadata": {},
   "outputs": [
    {
     "data": {
      "text/plain": [
       "age         0\n",
       "balance     0\n",
       "day         0\n",
       "duration    0\n",
       "campaign    0\n",
       "pdays       0\n",
       "previous    0\n",
       "dtype: int64"
      ]
     },
     "execution_count": 7,
     "metadata": {},
     "output_type": "execute_result"
    }
   ],
   "source": [
    "# finding if there are missing values in numerical data columns\n",
    "dataset[numerical_data_columns].isnull().sum()"
   ]
  },
  {
   "cell_type": "code",
   "execution_count": 8,
   "metadata": {},
   "outputs": [
    {
     "name": "stdout",
     "output_type": "stream",
     "text": [
      "There are 10 categorical data columns and those are :  ['job', 'marital', 'education', 'default', 'housing', 'loan', 'contact', 'month', 'poutcome', 'y']\n"
     ]
    }
   ],
   "source": [
    "# finding categorical data\n",
    "categorical_data_columns = [column_name for column_name in dataset.columns if dataset[column_name].dtype=='O']\n",
    "print(\"There are {} categorical data columns and those are : \" .format(len(categorical_data_columns)), categorical_data_columns)"
   ]
  },
  {
   "cell_type": "code",
   "execution_count": 9,
   "metadata": {},
   "outputs": [
    {
     "data": {
      "text/plain": [
       "job          0\n",
       "marital      0\n",
       "education    0\n",
       "default      0\n",
       "housing      0\n",
       "loan         0\n",
       "contact      0\n",
       "month        0\n",
       "poutcome     0\n",
       "y            0\n",
       "dtype: int64"
      ]
     },
     "execution_count": 9,
     "metadata": {},
     "output_type": "execute_result"
    }
   ],
   "source": [
    "# finding if there are missing values in categorical data columns\n",
    "dataset[categorical_data_columns].isnull().sum()"
   ]
  },
  {
   "cell_type": "code",
   "execution_count": 10,
   "metadata": {},
   "outputs": [
    {
     "name": "stdout",
     "output_type": "stream",
     "text": [
      "y\n",
      "no     39922\n",
      "yes     5289\n",
      "dtype: int64\n"
     ]
    }
   ],
   "source": [
    "# printing number of instances belonging to each outcome\n",
    "print(dataset.groupby('y').size())"
   ]
  },
  {
   "cell_type": "code",
   "execution_count": 11,
   "metadata": {
    "scrolled": true
   },
   "outputs": [
    {
     "name": "stdout",
     "output_type": "stream",
     "text": [
      "                age        balance           day      duration      campaign  \\\n",
      "count  45211.000000   45211.000000  45211.000000  45211.000000  45211.000000   \n",
      "mean      40.936210    1362.272058     15.806419    258.163080      2.763841   \n",
      "std       10.618762    3044.765829      8.322476    257.527812      3.098021   \n",
      "min       18.000000   -8019.000000      1.000000      0.000000      1.000000   \n",
      "25%       33.000000      72.000000      8.000000    103.000000      1.000000   \n",
      "50%       39.000000     448.000000     16.000000    180.000000      2.000000   \n",
      "75%       48.000000    1428.000000     21.000000    319.000000      3.000000   \n",
      "max       95.000000  102127.000000     31.000000   4918.000000     63.000000   \n",
      "\n",
      "              pdays      previous  \n",
      "count  45211.000000  45211.000000  \n",
      "mean      40.197828      0.580323  \n",
      "std      100.128746      2.303441  \n",
      "min       -1.000000      0.000000  \n",
      "25%       -1.000000      0.000000  \n",
      "50%       -1.000000      0.000000  \n",
      "75%       -1.000000      0.000000  \n",
      "max      871.000000    275.000000  \n"
     ]
    }
   ],
   "source": [
    "# printin statistical discription of the dataset before pre processing\n",
    "print(dataset.describe())"
   ]
  },
  {
   "cell_type": "code",
   "execution_count": 12,
   "metadata": {},
   "outputs": [
    {
     "data": {
      "text/plain": [
       "Text(0, 0.5, 'number of people')"
      ]
     },
     "execution_count": 12,
     "metadata": {},
     "output_type": "execute_result"
    },
    {
     "data": {
      "image/png": "[encoded data removed]",
      "text/plain": [
       "<Figure size 1080x1440 with 2 Axes>"
      ]
     },
     "metadata": {
      "needs_background": "light"
     },
     "output_type": "display_data"
    }
   ],
   "source": [
    "# printing boxplots and histogram to represent outliers possible in balance column due to high std\n",
    "pyplot.figure(figsize=(15,20))\n",
    "\n",
    "pyplot.subplot(2,2, 1)\n",
    "figure = dataset.boxplot(column='balance')\n",
    "figure.set_title('Distribution of values of balance column')\n",
    "figure.set_ylabel('balance')\n",
    "\n",
    "\n",
    "pyplot.subplot(2, 2, 2)\n",
    "figure = dataset.balance.hist(color='green')\n",
    "figure.set_title('Distribution of values of balance column')\n",
    "figure.set_xlabel('balance')\n",
    "figure.set_ylabel('number of people')"
   ]
  },
  {
   "cell_type": "code",
   "execution_count": 13,
   "metadata": {},
   "outputs": [
    {
     "name": "stdout",
     "output_type": "stream",
     "text": [
      "Interquartile range = 1356.0\n",
      "Balance column outliers are values smaller than -3996.0 or larger than 5496.0\n"
     ]
    }
   ],
   "source": [
    "# finding outliers of balance column\n",
    "IQR = dataset.balance.quantile(0.75) - dataset.balance.quantile(0.25)\n",
    "print('Interquartile range = {}'.format(IQR))\n",
    "lower_boundary = dataset.balance.quantile(0.25) - (IQR * 3)\n",
    "upper_boundary = dataset.balance.quantile(0.75) + (IQR * 3)\n",
    "print('Balance column outliers are values smaller than {lower_boundary} or larger than {upper_boundary}'.format(lower_boundary=lower_boundary, upper_boundary=upper_boundary))"
   ]
  },
  {
   "cell_type": "code",
   "execution_count": 14,
   "metadata": {},
   "outputs": [],
   "source": [
    "# dropping raws wchich contains outliers in balance column\n",
    "dataset.drop(dataset[dataset['balance'] > 5496.0].index, axis=0, inplace=True)\n",
    "dataset.drop(dataset[dataset['balance'] < -3996.0].index, axis=0, inplace=True)"
   ]
  },
  {
   "cell_type": "code",
   "execution_count": 15,
   "metadata": {},
   "outputs": [
    {
     "data": {
      "text/plain": [
       "Text(0, 0.5, 'number of people')"
      ]
     },
     "execution_count": 15,
     "metadata": {},
     "output_type": "execute_result"
    },
    {
     "data": {
      "image/png": "[encoded data removed]",
      "text/plain": [
       "<Figure size 1080x1440 with 2 Axes>"
      ]
     },
     "metadata": {
      "needs_background": "light"
     },
     "output_type": "display_data"
    }
   ],
   "source": [
    "# printing boxplots and histogram to after removing outliers in balance column\n",
    "pyplot.figure(figsize=(15,20))\n",
    "\n",
    "pyplot.subplot(2,2, 1)\n",
    "figure = dataset.boxplot(column='balance')\n",
    "figure.set_title('Distribution of values of balance column after removing outliers')\n",
    "figure.set_ylabel('balance')\n",
    "\n",
    "\n",
    "pyplot.subplot(2, 2, 2)\n",
    "figure = dataset.balance.hist(color='green')\n",
    "figure.set_title('Distribution of values of balance column after removing outliers')\n",
    "figure.set_xlabel('balance')\n",
    "figure.set_ylabel('number of people')"
   ]
  },
  {
   "cell_type": "code",
   "execution_count": 16,
   "metadata": {},
   "outputs": [
    {
     "name": "stdout",
     "output_type": "stream",
     "text": [
      "Index(['age', 'job', 'marital', 'education', 'default', 'balance', 'housing',\n",
      "       'loan', 'contact', 'day', 'month', 'duration', 'campaign', 'pdays',\n",
      "       'previous', 'poutcome', 'y'],\n",
      "      dtype='object')\n"
     ]
    }
   ],
   "source": [
    "# printing column names before pre processing\n",
    "column_names = dataset.columns\n",
    "print(column_names)"
   ]
  },
  {
   "cell_type": "code",
   "execution_count": 17,
   "metadata": {},
   "outputs": [],
   "source": [
    "# dropping poutcome column which does not contain userful data\n",
    "dataset.drop('poutcome', axis=1, inplace=True)\n",
    "\n",
    "# dropping contact column which does not contain userful data\n",
    "dataset.drop('contact', axis=1, inplace=True)\n",
    "\n",
    "# removing rows with unknown education and job data\n",
    "dataset.drop(dataset[dataset['education'] == 'unknown'].index, axis=0, inplace=True)\n",
    "dataset.drop(dataset[dataset['job'] == 'unknown'].index, axis=0, inplace=True)"
   ]
  },
  {
   "cell_type": "code",
   "execution_count": 18,
   "metadata": {},
   "outputs": [],
   "source": [
    "# converting duration in second to minutes to get the feature to a similar scale of orther features\n",
    "dataset['duration'] = dataset['duration']/60\n",
    "\n",
    "# divide balance by 100 to get the feature to a similar scale of orther features\n",
    "dataset['balance'] = dataset['balance']/10"
   ]
  },
  {
   "cell_type": "code",
   "execution_count": 19,
   "metadata": {},
   "outputs": [],
   "source": [
    "# assignnin numerical labels to the categorical values\n",
    "cleanup_data = {\"month\": {\"jan\": 0, \"feb\": 1, \"mar\": 2, \"apr\": 3, \"may\": 4, \"jun\": 5, \"jul\": 6, \"aug\": 7, \"sep\": 8, \"oct\": 9, \"nov\": 10, \"dec\": 11},\n",
    "                \"job\": {\"admin.\": 1, \"unemployed\": 0,\"management\": 2,\"housemaid\": 3,\"entrepreneur\": 4,\"student\": 5,\n",
    "                            \"blue-collar\": 6,\"self-employed\": 7,\"retired\": 8,\"technician\": 9,\"services\": 10},\n",
    "                \"marital\": {\"married\": 0,\"divorced\": 1,\"single\": 2},\n",
    "                \"education\": {\"secondary\": 0,\"primary\": 1,\"tertiary\": 2},\n",
    "                \"default\": {\"yes\": 1, \"no\": 0},\n",
    "                \"housing\": {\"yes\": 1, \"no\": 0},\n",
    "                \"loan\": {\"yes\": 1, \"no\": 0},\n",
    "                \"y\": {\"yes\": 1, \"no\": 0}}\n",
    "\n",
    "dataset.replace(cleanup_data, inplace=True)"
   ]
  },
  {
   "cell_type": "code",
   "execution_count": 20,
   "metadata": {},
   "outputs": [
    {
     "name": "stdout",
     "output_type": "stream",
     "text": [
      "(40885, 15)\n"
     ]
    }
   ],
   "source": [
    "# printing number of columns and rows in the dataset after pre processing\n",
    "print(dataset.shape)"
   ]
  },
  {
   "cell_type": "code",
   "execution_count": 21,
   "metadata": {},
   "outputs": [
    {
     "data": {
      "text/html": [
       "<div>\n",
       "<style scoped>\n",
       "    .dataframe tbody tr th:only-of-type {\n",
       "        vertical-align: middle;\n",
       "    }\n",
       "\n",
       "    .dataframe tbody tr th {\n",
       "        vertical-align: top;\n",
       "    }\n",
       "\n",
       "    .dataframe thead th {\n",
       "        text-align: right;\n",
       "    }\n",
       "</style>\n",
       "<table border=\"1\" class=\"dataframe\">\n",
       "  <thead>\n",
       "    <tr style=\"text-align: right;\">\n",
       "      <th></th>\n",
       "      <th>age</th>\n",
       "      <th>job</th>\n",
       "      <th>marital</th>\n",
       "      <th>education</th>\n",
       "      <th>default</th>\n",
       "      <th>balance</th>\n",
       "      <th>housing</th>\n",
       "      <th>loan</th>\n",
       "      <th>day</th>\n",
       "      <th>month</th>\n",
       "      <th>duration</th>\n",
       "      <th>campaign</th>\n",
       "      <th>pdays</th>\n",
       "      <th>previous</th>\n",
       "      <th>y</th>\n",
       "    </tr>\n",
       "  </thead>\n",
       "  <tbody>\n",
       "    <tr>\n",
       "      <td>0</td>\n",
       "      <td>58</td>\n",
       "      <td>2</td>\n",
       "      <td>0</td>\n",
       "      <td>2</td>\n",
       "      <td>0</td>\n",
       "      <td>214.3</td>\n",
       "      <td>1</td>\n",
       "      <td>0</td>\n",
       "      <td>5</td>\n",
       "      <td>4</td>\n",
       "      <td>4.350000</td>\n",
       "      <td>1</td>\n",
       "      <td>-1</td>\n",
       "      <td>0</td>\n",
       "      <td>0</td>\n",
       "    </tr>\n",
       "    <tr>\n",
       "      <td>1</td>\n",
       "      <td>44</td>\n",
       "      <td>9</td>\n",
       "      <td>2</td>\n",
       "      <td>0</td>\n",
       "      <td>0</td>\n",
       "      <td>2.9</td>\n",
       "      <td>1</td>\n",
       "      <td>0</td>\n",
       "      <td>5</td>\n",
       "      <td>4</td>\n",
       "      <td>2.516667</td>\n",
       "      <td>1</td>\n",
       "      <td>-1</td>\n",
       "      <td>0</td>\n",
       "      <td>0</td>\n",
       "    </tr>\n",
       "    <tr>\n",
       "      <td>2</td>\n",
       "      <td>33</td>\n",
       "      <td>4</td>\n",
       "      <td>0</td>\n",
       "      <td>0</td>\n",
       "      <td>0</td>\n",
       "      <td>0.2</td>\n",
       "      <td>1</td>\n",
       "      <td>1</td>\n",
       "      <td>5</td>\n",
       "      <td>4</td>\n",
       "      <td>1.266667</td>\n",
       "      <td>1</td>\n",
       "      <td>-1</td>\n",
       "      <td>0</td>\n",
       "      <td>0</td>\n",
       "    </tr>\n",
       "    <tr>\n",
       "      <td>5</td>\n",
       "      <td>35</td>\n",
       "      <td>2</td>\n",
       "      <td>0</td>\n",
       "      <td>2</td>\n",
       "      <td>0</td>\n",
       "      <td>23.1</td>\n",
       "      <td>1</td>\n",
       "      <td>0</td>\n",
       "      <td>5</td>\n",
       "      <td>4</td>\n",
       "      <td>2.316667</td>\n",
       "      <td>1</td>\n",
       "      <td>-1</td>\n",
       "      <td>0</td>\n",
       "      <td>0</td>\n",
       "    </tr>\n",
       "    <tr>\n",
       "      <td>6</td>\n",
       "      <td>28</td>\n",
       "      <td>2</td>\n",
       "      <td>2</td>\n",
       "      <td>2</td>\n",
       "      <td>0</td>\n",
       "      <td>44.7</td>\n",
       "      <td>1</td>\n",
       "      <td>1</td>\n",
       "      <td>5</td>\n",
       "      <td>4</td>\n",
       "      <td>3.616667</td>\n",
       "      <td>1</td>\n",
       "      <td>-1</td>\n",
       "      <td>0</td>\n",
       "      <td>0</td>\n",
       "    </tr>\n",
       "    <tr>\n",
       "      <td>7</td>\n",
       "      <td>42</td>\n",
       "      <td>4</td>\n",
       "      <td>1</td>\n",
       "      <td>2</td>\n",
       "      <td>1</td>\n",
       "      <td>0.2</td>\n",
       "      <td>1</td>\n",
       "      <td>0</td>\n",
       "      <td>5</td>\n",
       "      <td>4</td>\n",
       "      <td>6.333333</td>\n",
       "      <td>1</td>\n",
       "      <td>-1</td>\n",
       "      <td>0</td>\n",
       "      <td>0</td>\n",
       "    </tr>\n",
       "    <tr>\n",
       "      <td>8</td>\n",
       "      <td>58</td>\n",
       "      <td>8</td>\n",
       "      <td>0</td>\n",
       "      <td>1</td>\n",
       "      <td>0</td>\n",
       "      <td>12.1</td>\n",
       "      <td>1</td>\n",
       "      <td>0</td>\n",
       "      <td>5</td>\n",
       "      <td>4</td>\n",
       "      <td>0.833333</td>\n",
       "      <td>1</td>\n",
       "      <td>-1</td>\n",
       "      <td>0</td>\n",
       "      <td>0</td>\n",
       "    </tr>\n",
       "    <tr>\n",
       "      <td>9</td>\n",
       "      <td>43</td>\n",
       "      <td>9</td>\n",
       "      <td>2</td>\n",
       "      <td>0</td>\n",
       "      <td>0</td>\n",
       "      <td>59.3</td>\n",
       "      <td>1</td>\n",
       "      <td>0</td>\n",
       "      <td>5</td>\n",
       "      <td>4</td>\n",
       "      <td>0.916667</td>\n",
       "      <td>1</td>\n",
       "      <td>-1</td>\n",
       "      <td>0</td>\n",
       "      <td>0</td>\n",
       "    </tr>\n",
       "    <tr>\n",
       "      <td>10</td>\n",
       "      <td>41</td>\n",
       "      <td>1</td>\n",
       "      <td>1</td>\n",
       "      <td>0</td>\n",
       "      <td>0</td>\n",
       "      <td>27.0</td>\n",
       "      <td>1</td>\n",
       "      <td>0</td>\n",
       "      <td>5</td>\n",
       "      <td>4</td>\n",
       "      <td>3.700000</td>\n",
       "      <td>1</td>\n",
       "      <td>-1</td>\n",
       "      <td>0</td>\n",
       "      <td>0</td>\n",
       "    </tr>\n",
       "    <tr>\n",
       "      <td>11</td>\n",
       "      <td>29</td>\n",
       "      <td>1</td>\n",
       "      <td>2</td>\n",
       "      <td>0</td>\n",
       "      <td>0</td>\n",
       "      <td>39.0</td>\n",
       "      <td>1</td>\n",
       "      <td>0</td>\n",
       "      <td>5</td>\n",
       "      <td>4</td>\n",
       "      <td>2.283333</td>\n",
       "      <td>1</td>\n",
       "      <td>-1</td>\n",
       "      <td>0</td>\n",
       "      <td>0</td>\n",
       "    </tr>\n",
       "  </tbody>\n",
       "</table>\n",
       "</div>"
      ],
      "text/plain": [
       "    age  job  marital  education  default  balance  housing  loan  day  month  \\\n",
       "0    58    2        0          2        0    214.3        1     0    5      4   \n",
       "1    44    9        2          0        0      2.9        1     0    5      4   \n",
       "2    33    4        0          0        0      0.2        1     1    5      4   \n",
       "5    35    2        0          2        0     23.1        1     0    5      4   \n",
       "6    28    2        2          2        0     44.7        1     1    5      4   \n",
       "7    42    4        1          2        1      0.2        1     0    5      4   \n",
       "8    58    8        0          1        0     12.1        1     0    5      4   \n",
       "9    43    9        2          0        0     59.3        1     0    5      4   \n",
       "10   41    1        1          0        0     27.0        1     0    5      4   \n",
       "11   29    1        2          0        0     39.0        1     0    5      4   \n",
       "\n",
       "    duration  campaign  pdays  previous  y  \n",
       "0   4.350000         1     -1         0  0  \n",
       "1   2.516667         1     -1         0  0  \n",
       "2   1.266667         1     -1         0  0  \n",
       "5   2.316667         1     -1         0  0  \n",
       "6   3.616667         1     -1         0  0  \n",
       "7   6.333333         1     -1         0  0  \n",
       "8   0.833333         1     -1         0  0  \n",
       "9   0.916667         1     -1         0  0  \n",
       "10  3.700000         1     -1         0  0  \n",
       "11  2.283333         1     -1         0  0  "
      ]
     },
     "execution_count": 21,
     "metadata": {},
     "output_type": "execute_result"
    }
   ],
   "source": [
    "# printing first 10 records after pre processing\n",
    "dataset.head(10)"
   ]
  },
  {
   "cell_type": "code",
   "execution_count": 22,
   "metadata": {},
   "outputs": [
    {
     "name": "stdout",
     "output_type": "stream",
     "text": [
      "[[ 58.   2.   0. ...   1.  -1.   0.]\n",
      " [ 44.   9.   2. ...   1.  -1.   0.]\n",
      " [ 33.   4.   0. ...   1.  -1.   0.]\n",
      " ...\n",
      " [ 71.   8.   1. ...   2.  -1.   0.]\n",
      " [ 57.   6.   0. ...   4.  -1.   0.]\n",
      " [ 37.   4.   0. ...   2. 188.  11.]]\n"
     ]
    }
   ],
   "source": [
    "# assigning dataset values into an array\n",
    "dataset_arrray = dataset.values\n",
    "print(dataset_arrray[:,0:-1])\n"
   ]
  },
  {
   "cell_type": "code",
   "execution_count": 23,
   "metadata": {},
   "outputs": [
    {
     "name": "stdout",
     "output_type": "stream",
     "text": [
      "[[ 58.   2.   0. ...   1.  -1.   0.]\n",
      " [ 44.   9.   2. ...   1.  -1.   0.]\n",
      " [ 33.   4.   0. ...   1.  -1.   0.]\n",
      " ...\n",
      " [ 71.   8.   1. ...   2.  -1.   0.]\n",
      " [ 57.   6.   0. ...   4.  -1.   0.]\n",
      " [ 37.   4.   0. ...   2. 188.  11.]]\n"
     ]
    }
   ],
   "source": [
    "# slecting all the features except the output column\n",
    "X = dataset_arrray[:,0:-1]\n",
    "print(X)"
   ]
  },
  {
   "cell_type": "code",
   "execution_count": 24,
   "metadata": {},
   "outputs": [
    {
     "name": "stdout",
     "output_type": "stream",
     "text": [
      "[0. 0. 0. ... 1. 0. 0.]\n"
     ]
    }
   ],
   "source": [
    "# target variable\n",
    "y = dataset_arrray[:,-1]\n",
    "print(y)"
   ]
  },
  {
   "cell_type": "code",
   "execution_count": 25,
   "metadata": {},
   "outputs": [],
   "source": [
    "# splitting dataset into X(training set) and y(testing set)\n",
    "# 20% of the data will be used for testing\n",
    "test_size= 0.20\n",
    "random_num = 27\n",
    "X_train, X_test, y_train, y_test= train_test_split(X, y, test_size=test_size, random_state=random_num)"
   ]
  },
  {
   "cell_type": "code",
   "execution_count": 26,
   "metadata": {},
   "outputs": [
    {
     "data": {
      "text/plain": [
       "LogisticRegression(C=1, class_weight=None, dual=False, fit_intercept=True,\n",
       "                   intercept_scaling=1, l1_ratio=None, max_iter=1000,\n",
       "                   multi_class='warn', n_jobs=None, penalty='l2',\n",
       "                   random_state=27, solver='liblinear', tol=0.0001, verbose=0,\n",
       "                   warm_start=False)"
      ]
     },
     "execution_count": 26,
     "metadata": {},
     "output_type": "execute_result"
    }
   ],
   "source": [
    "# instantiating the model setting inverse of regularization parmeter to medium or deafault value\n",
    "logisticRegressionModelMediumRegularized = LogisticRegression(solver='liblinear', random_state=27, max_iter=1000, C=1)\n",
    "\n",
    "# fitting the models\n",
    "logisticRegressionModelMediumRegularized.fit(X_train, y_train)"
   ]
  },
  {
   "cell_type": "code",
   "execution_count": 27,
   "metadata": {},
   "outputs": [
    {
     "name": "stdout",
     "output_type": "stream",
     "text": [
      "Model accuracy score: 0.892870\n"
     ]
    }
   ],
   "source": [
    "y_prediction_test = logisticRegressionModelMediumRegularized.predict(X_test)\n",
    "print('Model accuracy score: {0:0.6f}'. format(accuracy_score(y_test, y_prediction_test)))"
   ]
  },
  {
   "cell_type": "code",
   "execution_count": 28,
   "metadata": {},
   "outputs": [
    {
     "name": "stdout",
     "output_type": "stream",
     "text": [
      "Confustion Matrix\n",
      "[[7123  113]\n",
      " [ 763  178]]\n",
      "\n",
      "True Positives=  7123\n",
      "True Negatives=  178\n",
      "False Positives=  113\n",
      "False Negatives=  763\n"
     ]
    },
    {
     "data": {
      "text/plain": [
       "(0, 2)"
      ]
     },
     "execution_count": 28,
     "metadata": {},
     "output_type": "execute_result"
    },
    {
     "data": {
      "image/png": "[encoded data removed]",
      "text/plain": [
       "<Figure size 720x504 with 2 Axes>"
      ]
     },
     "metadata": {
      "needs_background": "light"
     },
     "output_type": "display_data"
    }
   ],
   "source": [
    "# generating the confusion matrix\n",
    "cm = confusion_matrix(y_test, y_prediction_test)\n",
    "\n",
    "print(\"Confustion Matrix\")\n",
    "print(cm)\n",
    "\n",
    "print(\"\\nTrue Positives= \", cm[0,0])\n",
    "print(\"True Negatives= \", cm[1,1])\n",
    "print(\"False Positives= \", cm[0,1])\n",
    "print(\"False Negatives= \", cm[1,0])\n",
    "\n",
    "cm_matrix = pd.DataFrame(data=cm, columns=['Positive Actual :1', 'Negative Actual:0'], \n",
    "                                 index=['Positive Prediction :1', 'Negative Prediction :0'])\n",
    "\n",
    "figure, ax = pyplot.subplots(figsize=(10, 7))\n",
    "sns.heatmap(cm_matrix, square=True, annot=True, fmt='d', cmap=\"Greens\", )\n",
    "ax.set_ylim([0,2])"
   ]
  },
  {
   "cell_type": "code",
   "execution_count": 29,
   "metadata": {},
   "outputs": [
    {
     "name": "stdout",
     "output_type": "stream",
     "text": [
      "              precision    recall  f1-score   support\n",
      "\n",
      "         0.0       0.90      0.98      0.94      7236\n",
      "         1.0       0.61      0.19      0.29       941\n",
      "\n",
      "    accuracy                           0.89      8177\n",
      "   macro avg       0.76      0.59      0.62      8177\n",
      "weighted avg       0.87      0.89      0.87      8177\n",
      "\n"
     ]
    }
   ],
   "source": [
    "#generating classification Report\n",
    "print(classification_report(y_test, y_prediction_test))"
   ]
  }
 ],
 "metadata": {
  "kernelspec": {
   "display_name": "Python 3",
   "language": "python",
   "name": "python3"
  },
  "language_info": {
   "codemirror_mode": {
    "name": "ipython",
    "version": 3
   },
   "file_extension": ".py",
   "mimetype": "text/x-python",
   "name": "python",
   "nbconvert_exporter": "python",
   "pygments_lexer": "ipython3",
   "version": "3.7.4"
  }
 },
 "nbformat": 4,
 "nbformat_minor": 2
}
